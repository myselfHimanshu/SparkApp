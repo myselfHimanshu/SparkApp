{
 "cells": [
  {
   "cell_type": "markdown",
   "metadata": {},
   "source": [
    "#WORD COUNT APPLICATION"
   ]
  },
  {
   "cell_type": "markdown",
   "metadata": {},
   "source": [
    "- Here we will calculate the most_common words in \"harry potter and sorcerer's stone\" by J.K. Rowling using spark."
   ]
  },
  {
   "cell_type": "markdown",
   "metadata": {},
   "source": [
    "###Let's first start with some basic "
   ]
  },
  {
   "cell_type": "markdown",
   "metadata": {},
   "source": [
    "■ Let's get some words and create base RDD"
   ]
  },
  {
   "cell_type": "code",
   "execution_count": 3,
   "metadata": {
    "collapsed": false
   },
   "outputs": [
    {
     "name": "stdout",
     "output_type": "stream",
     "text": [
      "<class 'pyspark.rdd.RDD'>\n"
     ]
    }
   ],
   "source": [
    "words=['cat','mouse','dog','dog','cat']\n",
    "wordsRDD=sc.parallelize(words)\n",
    "\n",
    "#print the type of wordsRDD\n",
    "print type(wordsRDD)"
   ]
  },
  {
   "cell_type": "markdown",
   "metadata": {},
   "source": [
    "■ Define a function that add 's' to every word"
   ]
  },
  {
   "cell_type": "code",
   "execution_count": 4,
   "metadata": {
    "collapsed": false
   },
   "outputs": [
    {
     "name": "stdout",
     "output_type": "stream",
     "text": [
      "cats\n"
     ]
    }
   ],
   "source": [
    "def plural(word):\n",
    "    \"\"\"ADD 's' to word\n",
    "        Return: string\"\"\"\n",
    "    return word+'s'\n",
    "\n",
    "print plural('cat')"
   ]
  },
  {
   "cell_type": "markdown",
   "metadata": {},
   "source": [
    "■ Now, apply plural function to the wordsRDD"
   ]
  },
  {
   "cell_type": "code",
   "execution_count": 8,
   "metadata": {
    "collapsed": false
   },
   "outputs": [
    {
     "name": "stdout",
     "output_type": "stream",
     "text": [
      "['cats', 'mouses', 'dogs', 'dogs', 'cats']\n"
     ]
    }
   ],
   "source": [
    "pluralRDD=wordsRDD.map(lambda x:plural(x))\n",
    "\n",
    "print pluralRDD.collect()"
   ]
  },
  {
   "cell_type": "markdown",
   "metadata": {},
   "source": [
    "- Looks great!!!"
   ]
  },
  {
   "cell_type": "markdown",
   "metadata": {},
   "source": [
    "■ Calculate the length of each word"
   ]
  },
  {
   "cell_type": "code",
   "execution_count": 11,
   "metadata": {
    "collapsed": false
   },
   "outputs": [
    {
     "name": "stdout",
     "output_type": "stream",
     "text": [
      "[4, 6, 4, 4, 4]\n"
     ]
    }
   ],
   "source": [
    "pluralLength=pluralRDD.map(lambda x:len(x))\n",
    "\n",
    "print pluralLength.collect()"
   ]
  },
  {
   "cell_type": "markdown",
   "metadata": {},
   "source": [
    "■ Create a pair RDD"
   ]
  },
  {
   "cell_type": "markdown",
   "metadata": {},
   "source": [
    "- create pair ( word,1 ) for each word in wordsRdd"
   ]
  },
  {
   "cell_type": "code",
   "execution_count": 12,
   "metadata": {
    "collapsed": false
   },
   "outputs": [
    {
     "name": "stdout",
     "output_type": "stream",
     "text": [
      "[('cat', 1), ('mouse', 1), ('dog', 1), ('dog', 1), ('cat', 1)]\n"
     ]
    }
   ],
   "source": [
    "wordPairs=wordsRDD.map(lambda x:(x,1))\n",
    "\n",
    "print wordPairs.collect()"
   ]
  },
  {
   "cell_type": "markdown",
   "metadata": {},
   "source": [
    "■ Counting with pairRdd"
   ]
  },
  {
   "cell_type": "markdown",
   "metadata": {},
   "source": [
    "- let's count number of times a particular word appear in RDD"
   ]
  },
  {
   "cell_type": "code",
   "execution_count": 17,
   "metadata": {
    "collapsed": false
   },
   "outputs": [
    {
     "name": "stdout",
     "output_type": "stream",
     "text": [
      "mouse: [1]\n",
      "dog: [1, 1]\n",
      "cat: [1, 1]\n"
     ]
    }
   ],
   "source": [
    "#use groupByKey:it takes no parameter\n",
    "wordsGrouped = wordPairs.groupByKey()\n",
    "for key, value in wordsGrouped.collect():\n",
    "    print '{0}: {1}'.format(key, list(value))"
   ]
  },
  {
   "cell_type": "markdown",
   "metadata": {},
   "source": [
    "- Get the sum on every word"
   ]
  },
  {
   "cell_type": "code",
   "execution_count": 18,
   "metadata": {
    "collapsed": false
   },
   "outputs": [
    {
     "name": "stdout",
     "output_type": "stream",
     "text": [
      "[('mouse', 1), ('dog', 2), ('cat', 2)]\n"
     ]
    }
   ],
   "source": [
    "wordCountsGrouped = wordsGrouped.map(lambda x:(x[0],sum(x[1])))\n",
    "print wordCountsGrouped.collect()"
   ]
  },
  {
   "cell_type": "markdown",
   "metadata": {},
   "source": [
    "- Lets try another method"
   ]
  },
  {
   "cell_type": "code",
   "execution_count": 19,
   "metadata": {
    "collapsed": false
   },
   "outputs": [
    {
     "name": "stdout",
     "output_type": "stream",
     "text": [
      "[('mouse', 1), ('dog', 2), ('cat', 2)]\n"
     ]
    }
   ],
   "source": [
    "from operator import add\n",
    "\n",
    "#use reduceByKey\n",
    "wordCounts = wordPairs.reduceByKey(add)\n",
    "\n",
    "print wordCounts.collect()"
   ]
  },
  {
   "cell_type": "markdown",
   "metadata": {},
   "source": [
    "- Expert version use map ,reduceByKey and collect in one statement "
   ]
  },
  {
   "cell_type": "code",
   "execution_count": 20,
   "metadata": {
    "collapsed": false
   },
   "outputs": [
    {
     "name": "stdout",
     "output_type": "stream",
     "text": [
      "[('mouse', 1), ('dog', 2), ('cat', 2)]\n"
     ]
    }
   ],
   "source": [
    "wordCountsCollected = wordsRDD.map(lambda s:(s,1)).reduceByKey(add).collect()\n",
    "print wordCountsCollected\n"
   ]
  },
  {
   "cell_type": "markdown",
   "metadata": {},
   "source": [
    "■ Find unique words and mean value"
   ]
  },
  {
   "cell_type": "markdown",
   "metadata": {},
   "source": [
    "- Get numbers of unique words in wordsRDD"
   ]
  },
  {
   "cell_type": "code",
   "execution_count": 22,
   "metadata": {
    "collapsed": false
   },
   "outputs": [
    {
     "name": "stdout",
     "output_type": "stream",
     "text": [
      "3\n"
     ]
    }
   ],
   "source": [
    "uniqueWords = len(wordCountsCollected)\n",
    "print uniqueWords"
   ]
  },
  {
   "cell_type": "markdown",
   "metadata": {},
   "source": [
    "- Get mean using reduce\n",
    "- Find the mean number of words per unique word in 'wordCounts'"
   ]
  },
  {
   "cell_type": "code",
   "execution_count": 23,
   "metadata": {
    "collapsed": false
   },
   "outputs": [
    {
     "name": "stdout",
     "output_type": "stream",
     "text": [
      "5\n",
      "1.67\n"
     ]
    }
   ],
   "source": [
    "totalCount = wordCounts.map(lambda s:s[1]).reduce(add)\n",
    "average = totalCount / float(uniqueWords)\n",
    "\n",
    "print totalCount\n",
    "\n",
    "print round(average, 2)"
   ]
  },
  {
   "cell_type": "markdown",
   "metadata": {},
   "source": [
    "###Let'sapply word count on file"
   ]
  },
  {
   "cell_type": "markdown",
   "metadata": {},
   "source": [
    "**NOTE: Do not apply collect method on every rdd as due to large size dataset it might slow down processing.**"
   ]
  },
  {
   "cell_type": "markdown",
   "metadata": {},
   "source": [
    "1. define a function for word counting"
   ]
  },
  {
   "cell_type": "code",
   "execution_count": 24,
   "metadata": {
    "collapsed": false
   },
   "outputs": [
    {
     "name": "stdout",
     "output_type": "stream",
     "text": [
      "[('mouse', 1), ('dog', 2), ('cat', 2)]\n"
     ]
    }
   ],
   "source": [
    "from operator import add\n",
    "def wordCount(wordListRDD):\n",
    "    \"\"\"Creates a pair RDD with word counts from an RDD of words.\"\"\"\n",
    "    return (wordListRDD.map(lambda s:(s,1)).reduceByKey(add))\n",
    "                       \n",
    "                       \n",
    "print wordCount(wordsRDD).collect()\n"
   ]
  },
  {
   "cell_type": "markdown",
   "metadata": {},
   "source": [
    "2. Define the function `removePunctuation` that converts all text to lower case, removes leading and trailing spaces, and removes any punctuation.\n",
    "- Use the Python [re](https://docs.python.org/2/library/re.html) module to remove any text that is not a letter, number, or space."
   ]
  },
  {
   "cell_type": "code",
   "execution_count": 25,
   "metadata": {
    "collapsed": false
   },
   "outputs": [
    {
     "name": "stdout",
     "output_type": "stream",
     "text": [
      "hi you\n",
      "the elephants 4 cats\n"
     ]
    }
   ],
   "source": [
    "import re\n",
    "def removePunctuation(text):\n",
    "    \"\"\"Removes punctuation, changes to lowercase, and strips leading and trailing spaces.\"\"\"\n",
    "    \n",
    "    text=text.strip().lower()              \n",
    "    return re.sub(r'[^A-Za-z0-9\\s]+', '', text)\n",
    "\n",
    "print removePunctuation('Hi, you!')\n",
    "print removePunctuation(\" The Elephant's 4 cats. \")"
   ]
  },
  {
   "cell_type": "markdown",
   "metadata": {},
   "source": [
    "**GET THE DATA FILE**"
   ]
  },
  {
   "cell_type": "code",
   "execution_count": 26,
   "metadata": {
    "collapsed": false
   },
   "outputs": [
    {
     "name": "stdout",
     "output_type": "stream",
     "text": [
      "0: \n",
      "1: \n",
      "2: 1harry potter and the sorcerers stonechapter onethe boy who livedmr and mrs dursley of number four privet drive were proud to saythat they were perfectly normal thank you very much they were the lastpeople youd expect to be involved in anything strange or mysteriousbecause they just didnt hold with such nonsensemr dursley was the director of a firm called grunnings which madedrills he was a big beefy man with hardly any neck although he didhave a very large mustache mrs dursley was thin and blonde and hadnearly twice the usual amount of neck which came in very useful as shespent so much of her time craning over garden fences spying on theneighbors the dursleys had a small son called dudley and in theiropinion there was no finer boy anywherethe dursleys had everything they wanted but they also had a secret andtheir greatest fear was that somebody would discover it they didntthink they could bear it if anyone found out about the potters mrspotter was mrs dursleys sister but they hadnt met for several yearsin fact mrs dursley pretended she didnt have a sister because hersister and her goodfornothing husband were as undursleyish as it waspossible to be the dursleys shuddered to think what the neighbors wouldsay if the potters arrived in the street the dursleys knew that thepotters had a small son too but they had never even seen him this boywas another good reason for keeping the potters away they didnt wantdudley mixing with a child like thatwhen mr and mrs dursley woke up on the dull gray tuesday our storystarts there was nothing about the cloudy sky outside to suggest thatstrange and mysterious things would soon be happening all over thecountry mr dursley hummed as he picked out his most boring tie forwork and mrs dursley gossiped away happily as she wrestled a screamingdudley into his high chairnone of them noticed a large tawny owl flutter past the windowat half past eight mr dursley picked up his briefcase pecked mrsdursley on the cheek and tried to kiss dudley goodbye but missed\n",
      "3: \n",
      "4: \n",
      "5: \n",
      "6: \n",
      "7: 2because dudley was now having a tantrum and throwing his cereal at thewalls little tyke chortled mr dursley as he left the house he gotinto his car and backed out of number fours driveit was on the corner of the street that he noticed the first sign ofsomething peculiar  a cat reading a map for a second mr dursleydidnt realize what he had seen  then he jerked his head around tolook again there was a tabby cat standing on the corner of privetdrive but there wasnt a map in sight what could he have been thinkingof it must have been a trick of the light mr dursley blinked andstared at the cat it stared back as mr dursley drove around thecorner and up the road he watched the cat in his mirror it was nowreading the sign that said privet drive  no looking at the sign catscouldnt read maps or signs mr dursley gave himself a little shake andput the cat out of his mind as he drove toward town he thought ofnothing except a large order of drills he was hoping to get that daybut on the edge of town drills were driven out of his mind by somethingelse as he sat in the usual morning traffic jam he couldnt helpnoticing that there seemed to be a lot of strangely dressed peopleabout people in cloaks mr dursley couldnt bear people who dressed infunny clothes  the getups you saw on young people he supposed thiswas some stupid new fashion he drummed his fingers on the steeringwheel and his eyes fell on a huddle of these weirdos standing quiteclose by they were whispering excitedly together mr dursley wasenraged to see that a couple of them werent young at all why that manhad to be older than he was and wearing an emeraldgreen cloak thenerve of him but then it struck mr dursley that this was probably somesilly stunt  these people were obviously collecting for somethingyes that would be it the traffic moved on and a few minutes later mrdursley arrived in the grunnings parking lot his mind back on drillsmr dursley always sat with his back to the window in his office on theninth floor if he hadnt he might have found it harder to concentrateon drills that morning he didnt see the owls swoop ing past in broaddaylight though people down in the street did they pointed and gazedopen mouthed as owl after owl sped overhead most of them had neverseen an owl even at nighttime mr dursley however had a perfectlynormal owlfree morning he yelled at five different people he madeseveral important telephone calls and shouted a bit more he was in avery good mood until lunchtime when he thought hed stretch his legsand walk across the road to buy himself a bun from the bakery\n",
      "8: \n",
      "9: \n",
      "10: \n",
      "11: \n",
      "12: 3hed forgotten all about the people in cloaks until he passed a group ofthem next to the bakers he eyed them angrily as he passed he didntknow why but they made him uneasy this bunch were whisperingexcitedly too and he couldnt see a single collecting tin it was onhis way back past them clutching a large doughnut in a bag that hecaught a few words of what they were sayingthe potters thats right thats what i heard yes their son harrymr dursley stopped dead fear flooded him he looked back at thewhisperers as if he wanted to say something to them but thought betterof ithe dashed back across the road hurried up to his office snapped at hissecretary not to disturb him seized his telephone and had almostfinished dialing his home number when he changed his mind he put thereceiver back down and stroked his mustache thinking no he wasbeing stupid potter wasnt such an unusual name he was sure there werelots of people called potter who had a son called harry come to thinkof it he wasnt even sure his nephew was called harry hed never evenseen the boy it might have been harvey or harold there was no pointin worrying mrs dursley she always got so upset at any mention of hersister he didnt blame her  if hed had a sister like that but allthe same those people in cloakshe found it a lot harder to concentrate on drills that afternoon andwhen he left the building at five oclock he was still so worried thathe walked straight into someone just outside the doorsorry he grunted as the tiny old man stumbled and almost fell itwas a few seconds before mr dursley realized that the man was wearing aviolet cloak he didnt seem at all upset at being almost knocked to theground on the contrary his face split into a wide smile and he said ina squeaky voice that made passersby stare dont be sorry my dear sirfor nothing could upset me today rejoice for youknowwho has gone atlast even muggles like yourself should be celebrating this happyhappy dayand the old man hugged mr dursley around the middle and walked offmr dursley stood rooted to the spot he had been hugged by a completestranger he also thought he had been called a muggle whatever thatwas he was rattled he hurried to his car and set off for home hoping\n",
      "13: \n",
      "14: \n"
     ]
    }
   ],
   "source": [
    "potterRDD = (sc.textFile('../HIMANSHU/Harry_Potter_and_the_Sorcerer_s_Stone.txt', 8).map(removePunctuation))\n",
    "print '\\n'.join(potterRDD.zipWithIndex().map(lambda (l, num): '{0}: {1}'.format(num, l)).take(15))"
   ]
  },
  {
   "cell_type": "markdown",
   "metadata": {},
   "source": [
    "**WORDS FROM LINE**"
   ]
  },
  {
   "cell_type": "markdown",
   "metadata": {},
   "source": [
    "Apply a transformation that will split each element of the RDD by its spaces."
   ]
  },
  {
   "cell_type": "code",
   "execution_count": 41,
   "metadata": {
    "collapsed": false
   },
   "outputs": [
    {
     "name": "stdout",
     "output_type": "stream",
     "text": [
      "[u'zoorestaurant', u'zooming', u'zooming', u'zoomed', u'zoom']\n",
      "72046\n"
     ]
    }
   ],
   "source": [
    "potterWordsRDD = potterRDD.flatMap(lambda x: x.split(\" \"))\n",
    "potterWordCount = potterWordsRDD.count()\n",
    "\n",
    "print potterWordsRDD.top(5)\n",
    "\n",
    "print potterWordCount"
   ]
  },
  {
   "cell_type": "markdown",
   "metadata": {},
   "source": [
    "- REMOVE EMPTY ELEMENTS"
   ]
  },
  {
   "cell_type": "markdown",
   "metadata": {},
   "source": [
    "- Remove all entries where the word is `''`"
   ]
  },
  {
   "cell_type": "code",
   "execution_count": 42,
   "metadata": {
    "collapsed": false
   },
   "outputs": [
    {
     "name": "stdout",
     "output_type": "stream",
     "text": [
      "70370\n"
     ]
    }
   ],
   "source": [
    "potWordsRDD = potterWordsRDD.filter(lambda x:x!='')\n",
    "        \n",
    "potWordCount = potWordsRDD.count()\n",
    "print potWordCount"
   ]
  },
  {
   "cell_type": "markdown",
   "metadata": {},
   "source": [
    "**COUNT THE WORDS**"
   ]
  },
  {
   "cell_type": "markdown",
   "metadata": {},
   "source": [
    "- We now have an RDD that is only words.  \n",
    "- Next, let's apply the `wordCount()` function to produce a list of word counts. \n",
    "- We can view the top 15 words by using the `takeOrdered()` action; \n",
    "- Since the elements of the RDD are pairs, we need a custom sort function that sorts using the value part of the pair."
   ]
  },
  {
   "cell_type": "code",
   "execution_count": 43,
   "metadata": {
    "collapsed": false
   },
   "outputs": [
    {
     "name": "stdout",
     "output_type": "stream",
     "text": [
      "the: 3036\n",
      "and: 1662\n",
      "to: 1651\n",
      "a: 1473\n",
      "he: 1259\n",
      "of: 1117\n",
      "was: 1044\n",
      "in: 866\n",
      "harry: 813\n",
      "his: 808\n",
      "it: 806\n",
      "said: 739\n",
      "you: 692\n",
      "had: 620\n",
      "at: 558\n",
      "on: 556\n",
      "that: 509\n",
      "i: 499\n",
      "they: 461\n",
      "as: 454\n"
     ]
    }
   ],
   "source": [
    "top20WordsAndCounts = wordCount(potWordsRDD).takeOrdered(20,lambda s:-1*s[1])\n",
    "\n",
    "print '\\n'.join(map(lambda (w, c): '{0}: {1}'.format(w, c), top20WordsAndCounts))"
   ]
  },
  {
   "cell_type": "markdown",
   "metadata": {},
   "source": [
    "**You'll notice that many of the words are common English words. These are called stopwords.**"
   ]
  },
  {
   "cell_type": "markdown",
   "metadata": {},
   "source": [
    "- GET THE STOPWORDS FILE "
   ]
  },
  {
   "cell_type": "code",
   "execution_count": 44,
   "metadata": {
    "collapsed": false
   },
   "outputs": [
    {
     "name": "stdout",
     "output_type": "stream",
     "text": [
      "These are the stopwords: set([u'all', u'just', u'being', u'over', u'both', u'through', u'yourselves', u'its', u'before', u'with', u'had', u'should', u'to', u'only', u'under', u'ours', u'has', u'do', u'them', u'his', u'very', u'they', u'not', u'during', u'now', u'him', u'nor', u'did', u'these', u't', u'each', u'where', u'because', u'doing', u'theirs', u'some', u'are', u'our', u'ourselves', u'out', u'what', u'for', u'below', u'does', u'above', u'between', u'she', u'be', u'we', u'after', u'here', u'hers', u'by', u'on', u'about', u'of', u'against', u's', u'or', u'own', u'into', u'yourself', u'down', u'your', u'from', u'her', u'whom', u'there', u'been', u'few', u'too', u'themselves', u'was', u'until', u'more', u'himself', u'that', u'but', u'off', u'herself', u'than', u'those', u'he', u'me', u'myself', u'this', u'up', u'will', u'while', u'can', u'were', u'my', u'and', u'then', u'is', u'in', u'am', u'it', u'an', u'as', u'itself', u'at', u'have', u'further', u'their', u'if', u'again', u'no', u'when', u'same', u'any', u'how', u'other', u'which', u'you', u'who', u'most', u'such', u'why', u'a', u'don', u'i', u'having', u'so', u'the', u'yours', u'once'])\n"
     ]
    }
   ],
   "source": [
    "stopwords = set(sc.textFile('../HIMANSHU/stopwords.txt').collect())\n",
    "\n",
    "print 'These are the stopwords: %s' % stopwords"
   ]
  },
  {
   "cell_type": "markdown",
   "metadata": {},
   "source": [
    "** An implementation of input string tokenization that excludes stopwords**"
   ]
  },
  {
   "cell_type": "markdown",
   "metadata": {},
   "source": [
    "- Define a function that will remove stopwords from rdd"
   ]
  },
  {
   "cell_type": "code",
   "execution_count": 45,
   "metadata": {
    "collapsed": true
   },
   "outputs": [],
   "source": [
    "def tokenize(data):\n",
    "    #data: rdd\n",
    "    #return rdd of ramoved stopwords\n",
    "    return data.filter(lambda x:x not in stopwords)    "
   ]
  },
  {
   "cell_type": "markdown",
   "metadata": {},
   "source": [
    "- LET'S REMOVE STOPWORDS FROM **[`potWordsRDD`]**"
   ]
  },
  {
   "cell_type": "code",
   "execution_count": 46,
   "metadata": {
    "collapsed": false
   },
   "outputs": [
    {
     "name": "stdout",
     "output_type": "stream",
     "text": [
      "[u'zoorestaurant', u'zooming', u'zooming', u'zoomed', u'zoom']\n",
      "42500\n"
     ]
    }
   ],
   "source": [
    "emmaWordsRDD=tokenize(potterWordsRDD)\n",
    "\n",
    "emmaWordCount = emmaWordsRDD.count()\n",
    "\n",
    "print emmaWordsRDD.top(5)\n",
    "\n",
    "print emmaWordCount"
   ]
  },
  {
   "cell_type": "code",
   "execution_count": 47,
   "metadata": {
    "collapsed": false
   },
   "outputs": [
    {
     "name": "stdout",
     "output_type": "stream",
     "text": [
      "40824\n"
     ]
    }
   ],
   "source": [
    "emmaWordsRDD = emmaWordsRDD.filter(lambda x:x!='')\n",
    "        \n",
    "emmaWordCount = emmaWordsRDD.count()\n",
    "print emmaWordCount"
   ]
  },
  {
   "cell_type": "markdown",
   "metadata": {},
   "source": [
    "**NOW COUNT THE WORDS**"
   ]
  },
  {
   "cell_type": "code",
   "execution_count": 48,
   "metadata": {
    "collapsed": false
   },
   "outputs": [
    {
     "name": "stdout",
     "output_type": "stream",
     "text": [
      "harry: 813\n",
      "said: 739\n",
      "ron: 311\n",
      "hagrid: 244\n",
      "back: 220\n",
      "one: 210\n",
      "hermione: 175\n",
      "got: 170\n",
      "could: 167\n",
      "didnt: 165\n",
      "get: 165\n",
      "like: 163\n",
      "know: 161\n",
      "looked: 147\n",
      "see: 146\n"
     ]
    }
   ],
   "source": [
    "top15WordsAndCounts = wordCount(emmaWordsRDD).takeOrdered(15,lambda s:-1*s[1])\n",
    "\n",
    "print '\\n'.join(map(lambda (w, c): '{0}: {1}'.format(w, c), top15WordsAndCounts))"
   ]
  },
  {
   "cell_type": "markdown",
   "metadata": {},
   "source": [
    "#THAT'S IT "
   ]
  },
  {
   "cell_type": "markdown",
   "metadata": {},
   "source": [
    "Top 5 words and counts from the novel."
   ]
  },
  {
   "cell_type": "markdown",
   "metadata": {},
   "source": [
    "harry: 813\n",
    "\n",
    "said: 739\n",
    "\n",
    "ron: 311\n",
    "\n",
    "hagrid: 244\n",
    "\n",
    "back: 220\n"
   ]
  }
 ],
 "metadata": {
  "kernelspec": {
   "display_name": "Python 2",
   "language": "python",
   "name": "python2"
  },
  "language_info": {
   "codemirror_mode": {
    "name": "ipython",
    "version": 2
   },
   "file_extension": ".py",
   "mimetype": "text/x-python",
   "name": "python",
   "nbconvert_exporter": "python",
   "pygments_lexer": "ipython2",
   "version": "2.7.6"
  }
 },
 "nbformat": 4,
 "nbformat_minor": 0
}
