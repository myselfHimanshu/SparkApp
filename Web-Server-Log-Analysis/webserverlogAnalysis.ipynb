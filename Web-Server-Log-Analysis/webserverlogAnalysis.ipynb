{
 "cells": [
  {
   "cell_type": "markdown",
   "metadata": {},
   "source": [
    "#WEB SERVER LOG ANALYSIS WITH APACHE SPARK"
   ]
  },
  {
   "cell_type": "markdown",
   "metadata": {},
   "source": [
    "##1.Apache Web Server Log File"
   ]
  },
  {
   "cell_type": "markdown",
   "metadata": {},
   "source": [
    "The log files are in format [Apache Common Log Format(CFL)](http://httpd.apache.org/docs/1.3/logs.html#common).<br />\n",
    "It looks like something:<br />\n",
    "127.0.0.1 - - [01/Aug/1995:00:00:01 -0400] \"GET /images/launch-logo.gif HTTP/1.0\" 200 1839"
   ]
  },
  {
   "cell_type": "markdown",
   "metadata": {},
   "source": [
    "**Each part is described below**\n",
    "\n",
    "- **127.0.0.1** ####This is the IP address (or host name, if available) of the client (remote host) which made the request to the server.\n",
    "\n",
    "-   **`\"-\"`**   ####The \"hyphen\" in the output indicates that the requested piece of information (user identity from remote machine) is not available.\n",
    "\n",
    "- **[01/Aug/1995:00:00:01 -0400]** ####The time that the server finished processing the request. The format is  : [day/month/year:hour:minute:second timezone]\n",
    " \n",
    "      ####day = 2 digits\n",
    "      ####month = 3 letters\n",
    "      ####year = 4 digits\n",
    "      ####hour = 2 digits\n",
    "      ####minute = 2 digits\n",
    "      ####second = 2 digits\n",
    "      ####zone = (+ | -) 4 digits\n",
    "- **\"GET /images/launch-logo.gif HTTP/1.0\"** ####This is the first line of the request string from the client. It consists of a three components: the request method (e.g., GET, POST, etc.), the endpoint (a Uniform Resource Identifier), and the client protocol version.\n",
    "\n",
    "- **200** ####This is the status code that the server sends back to the client. This information is very valuable, because it reveals whether the request resulted in a successful response (codes beginning in 2), a redirection (codes beginning in 3), an error caused by the client (codes beginning in 4), or an error in the server (codes beginning in 5). The full list of possible status codes can be found in the HTTP specification (RFC 2616 section 10).\n",
    "\n",
    "- **1839** ####The last entry indicates the size of the object returned to the client, not including the response headers. If no content was returned to the client, this value will be \"-\" (or sometimes 0)."
   ]
  },
  {
   "cell_type": "markdown",
   "metadata": {},
   "source": [
    "###NASA-HTTP WEB SERVER LOG"
   ]
  },
  {
   "cell_type": "markdown",
   "metadata": {},
   "source": [
    "We will use data set from NASA Kennedy Space Center WWW server in Florida.<br />\n",
    "The full data set is freely available: <br />\n",
    "(http://ita.ee.lbl.gov/html/contrib/NASA-HTTP.html)"
   ]
  },
  {
   "cell_type": "markdown",
   "metadata": {},
   "source": [
    "###Parsing Log FILE:"
   ]
  },
  {
   "cell_type": "code",
   "execution_count": 1,
   "metadata": {
    "collapsed": true
   },
   "outputs": [],
   "source": [
    "#first build regular expression pattern to extract fields from log line\n",
    "apache_log_pattern='^(\\S+) (\\S+) (\\S+) \\[([\\w:/]+\\s[+\\-]\\d{4})\\] \"(\\S+) (\\S+)\\s*(\\S*)\" (\\d{3}) (\\S+)'"
   ]
  },
  {
   "cell_type": "code",
   "execution_count": 2,
   "metadata": {
    "collapsed": false
   },
   "outputs": [],
   "source": [
    "#Create regular expression pattern to extract the nine fields\n",
    "import re\n",
    "import datetime\n",
    "\n",
    "from pyspark.sql import Row\n",
    "\n",
    "month_map = {'Jan': 1, 'Feb': 2, 'Mar':3, 'Apr':4, 'May':5, 'Jun':6, 'Jul':7,\n",
    "    'Aug':8,  'Sep': 9, 'Oct':10, 'Nov': 11, 'Dec': 12}\n",
    "\n",
    "def parse_apache_time(s):\n",
    "    '''S (str): data and time in Apache Log format'''\n",
    "    return datetime.datetime(int(s[7:11]),month_map[s[3:6]],int(s[0:2]),\n",
    "                            int(s[12:14]),int(s[15:17]),int(s[18:20]))\n",
    "\n",
    "def parse_apache_logline(logline):\n",
    "    '''logline (str): text line in Apache Log format'''\n",
    "    match=re.search(apache_log_pattern,logline)\n",
    "    if match is None:\n",
    "        return (logline, 0)\n",
    "    size_field = match.group(9)\n",
    "    if size_field == '-':\n",
    "        size = long(0)\n",
    "    else:\n",
    "        size = long(match.group(9))\n",
    "    return (Row(\n",
    "        host          = match.group(1),\n",
    "        client_identd = match.group(2),\n",
    "        user_id       = match.group(3),\n",
    "        date_time     = parse_apache_time(match.group(4)),\n",
    "        method        = match.group(5),\n",
    "        endpoint      = match.group(6),\n",
    "        protocol      = match.group(7),\n",
    "        response_code = int(match.group(8)),\n",
    "        content_size  = size\n",
    "    ), 1)\n",
    "    "
   ]
  },
  {
   "cell_type": "markdown",
   "metadata": {},
   "source": [
    "###Creation of RDD"
   ]
  },
  {
   "cell_type": "code",
   "execution_count": 3,
   "metadata": {
    "collapsed": false
   },
   "outputs": [
    {
     "name": "stdout",
     "output_type": "stream",
     "text": [
      "Number of invalid logline: 108\n",
      "Invalid logline: ix-sac6-20.ix.netcom.com - - [08/Aug/1995:14:43:39 -0400] \"GET / HTTP/1.0 \" 200 7131\n",
      "Invalid logline: ix-sac6-20.ix.netcom.com - - [08/Aug/1995:14:43:57 -0400] \"GET /images/ksclogo-medium.gif HTTP/1.0 \" 200 5866\n",
      "Invalid logline: ix-sac6-20.ix.netcom.com - - [08/Aug/1995:14:44:07 -0400] \"GET /images/NASA-logosmall.gif HTTP/1.0 \" 200 786\n",
      "Invalid logline: ix-sac6-20.ix.netcom.com - - [08/Aug/1995:14:44:11 -0400] \"GET /images/MOSAIC-logosmall.gif HTTP/1.0 \" 200 363\n",
      "Invalid logline: ix-sac6-20.ix.netcom.com - - [08/Aug/1995:14:44:13 -0400] \"GET /images/USA-logosmall.gif HTTP/1.0 \" 200 234\n",
      "Invalid logline: ix-sac6-20.ix.netcom.com - - [08/Aug/1995:14:44:15 -0400] \"GET /images/WORLD-logosmall.gif HTTP/1.0 \" 200 669\n",
      "Invalid logline: ix-sac6-20.ix.netcom.com - - [08/Aug/1995:14:44:31 -0400] \"GET /shuttle/countdown/ HTTP/1.0 \" 200 4673\n",
      "Invalid logline: ix-sac6-20.ix.netcom.com - - [08/Aug/1995:14:44:41 -0400] \"GET /shuttle/missions/sts-69/count69.gif HTTP/1.0 \" 200 46053\n",
      "Invalid logline: ix-sac6-20.ix.netcom.com - - [08/Aug/1995:14:45:34 -0400] \"GET /images/KSC-logosmall.gif HTTP/1.0 \" 200 1204\n",
      "Invalid logline: ix-sac6-20.ix.netcom.com - - [08/Aug/1995:14:45:46 -0400] \"GET /cgi-bin/imagemap/countdown69?293,287 HTTP/1.0 \" 302 85\n",
      "Invalid logline: ix-sac6-20.ix.netcom.com - - [08/Aug/1995:14:45:48 -0400] \"GET /htbin/cdt_main.pl HTTP/1.0 \" 200 3714\n",
      "Invalid logline: ix-sac6-20.ix.netcom.com - - [08/Aug/1995:14:45:52 -0400] \"GET /shuttle/countdown/images/countclock.gif HTTP/1.0 \" 200 13994\n",
      "Invalid logline: ix-li1-14.ix.netcom.com - - [08/Aug/1995:14:46:22 -0400] \"GET / HTTP/1.0 \" 200 7131\n",
      "Invalid logline: ix-li1-14.ix.netcom.com - - [08/Aug/1995:14:46:29 -0400] \"GET /images/ksclogo-medium.gif HTTP/1.0 \" 200 5866\n",
      "Invalid logline: ix-li1-14.ix.netcom.com - - [08/Aug/1995:14:46:35 -0400] \"GET /images/NASA-logosmall.gif HTTP/1.0 \" 200 786\n",
      "Invalid logline: ix-li1-14.ix.netcom.com - - [08/Aug/1995:14:46:37 -0400] \"GET /images/MOSAIC-logosmall.gif HTTP/1.0 \" 200 363\n",
      "Invalid logline: ix-li1-14.ix.netcom.com - - [08/Aug/1995:14:46:38 -0400] \"GET /images/USA-logosmall.gif HTTP/1.0 \" 200 234\n",
      "Invalid logline: ix-li1-14.ix.netcom.com - - [08/Aug/1995:14:46:40 -0400] \"GET /images/WORLD-logosmall.gif HTTP/1.0 \" 200 669\n",
      "Invalid logline: ix-li1-14.ix.netcom.com - - [08/Aug/1995:14:47:41 -0400] \"GET /shuttle/missions/sts-70/mission-sts-70.html HTTP/1.0 \" 200 20304\n",
      "Invalid logline: ix-sac6-20.ix.netcom.com - - [08/Aug/1995:14:47:48 -0400] \"GET /shuttle/countdown/count.html HTTP/1.0 \" 200 73231\n",
      "Read 1043177 lines, successfully parsed 1043069 lines, failed to parse 108 lines\n"
     ]
    }
   ],
   "source": [
    "#path\n",
    "logFile=\"../data/cs100/lab2/apache.access.log.PROJECT\"\n",
    "\n",
    "#read and parse Log Files\n",
    "def parseLogs():\n",
    "    \n",
    "    parsed_logs=sc.textFile(logFile).map(parse_apache_logline).cache()\n",
    "    \n",
    "    access_logs=parsed_logs.filter(lambda s:s[1]==1).map(lambda s:s[0]).cache()\n",
    "    \n",
    "    failed_logs=parsed_logs.filter(lambda s:s[1]==0).map(lambda s:s[0])\n",
    "    \n",
    "    failed_logs_count=failed_logs.count()\n",
    "    \n",
    "    if failed_logs_count > 0:\n",
    "        print 'Number of invalid logline: %d' % failed_logs.count()\n",
    "        for line in failed_logs.take(20):\n",
    "            print 'Invalid logline: %s' % line\n",
    "\n",
    "    print 'Read %d lines, successfully parsed %d lines, failed to parse %d lines' % (parsed_logs.count(), access_logs.count(), failed_logs.count())\n",
    "    \n",
    "    return parsed_logs, access_logs, failed_logs\n",
    "    \n",
    "    \n",
    "\n",
    "parsed_logs, access_logs, failed_logs = parseLogs()\n",
    "    "
   ]
  },
  {
   "cell_type": "markdown",
   "metadata": {},
   "source": [
    "**Oh ou!!! So many failed parsed logs\n",
    "<br />Try to alter `apache_log_pattern`**"
   ]
  },
  {
   "cell_type": "markdown",
   "metadata": {},
   "source": [
    "U see there's space after `\".../1.0 \"` in every failed log file"
   ]
  },
  {
   "cell_type": "code",
   "execution_count": 4,
   "metadata": {
    "collapsed": true
   },
   "outputs": [],
   "source": [
    "apache_log_pattern='^(\\S+) (\\S+) (\\S+) \\[([\\w:/]+\\s[+\\-]\\d{4})\\] \"(\\S+) (\\S+)\\s*(\\S*)\\s*\" (\\d{3}) (\\S+)'"
   ]
  },
  {
   "cell_type": "code",
   "execution_count": 5,
   "metadata": {
    "collapsed": false
   },
   "outputs": [
    {
     "name": "stdout",
     "output_type": "stream",
     "text": [
      "Read 1043177 lines, successfully parsed 1043177 lines, failed to parse 0 lines\n"
     ]
    }
   ],
   "source": [
    "#check out again\n",
    "parsed_logs, access_logs, failed_logs = parseLogs()"
   ]
  },
  {
   "cell_type": "markdown",
   "metadata": {},
   "source": [
    "**Ohlala.....  failed : 0 logs **"
   ]
  },
  {
   "cell_type": "markdown",
   "metadata": {},
   "source": [
    "####Let's Now do some Analysis"
   ]
  },
  {
   "cell_type": "markdown",
   "metadata": {},
   "source": [
    "**Content size : average,minimum,maximum content size**"
   ]
  },
  {
   "cell_type": "code",
   "execution_count": 6,
   "metadata": {
    "collapsed": false
   },
   "outputs": [
    {
     "name": "stdout",
     "output_type": "stream",
     "text": [
      "0\n",
      "3421948\n",
      "17531\n"
     ]
    }
   ],
   "source": [
    "#create rdd of content size\n",
    "content_sizes=access_logs.map(lambda log:log.content_size).cache()\n",
    "\n",
    "#print min,max and avg content sizes\n",
    "print content_sizes.min()\n",
    "\n",
    "print content_sizes.max()\n",
    "\n",
    "print content_sizes.sum()/content_sizes.count()\n"
   ]
  },
  {
   "cell_type": "markdown",
   "metadata": {},
   "source": [
    "**Response code Analysis**"
   ]
  },
  {
   "cell_type": "code",
   "execution_count": 7,
   "metadata": {
    "collapsed": false
   },
   "outputs": [
    {
     "name": "stdout",
     "output_type": "stream",
     "text": [
      "7\n",
      "[(200, 940847), (302, 16244), (304, 79824), (403, 58), (404, 6185), (500, 2), (501, 17)]\n"
     ]
    }
   ],
   "source": [
    "#create rdd of responsecode and make tuple(responsecode,1) and reduce it by key to get count of unique response code\n",
    "from operator import add\n",
    "responsecode_count=access_logs.map(lambda log:(log.response_code,1)).reduceByKey(add).cache()\n",
    "\n",
    "#print len\n",
    "print responsecode_count.count()\n",
    "\n",
    "#get top response code\n",
    "print sorted(responsecode_count.take(100))\n"
   ]
  },
  {
   "cell_type": "markdown",
   "metadata": {},
   "source": [
    "**Response code visualize**"
   ]
  },
  {
   "cell_type": "markdown",
   "metadata": {
    "collapsed": true
   },
   "source": [
    "- Let's visualize the response_code using matplotlib.\n",
    "- Extract the labels from responsecode_count, and normalize the features."
   ]
  },
  {
   "cell_type": "code",
   "execution_count": 8,
   "metadata": {
    "collapsed": false
   },
   "outputs": [
    {
     "name": "stdout",
     "output_type": "stream",
     "text": [
      "[200, 304, 404, 500, 501, 302, 403]\n",
      "[0.9019054292799784, 0.07652009198822443, 0.005929003419362198, 1.9172201841106543e-06, 1.629637156494056e-05, 0.015571662335346735, 5.5599385339208974e-05]\n"
     ]
    }
   ],
   "source": [
    "#extract labels\n",
    "labels=responsecode_count.map(lambda (x,y):x).collect()\n",
    "print labels\n",
    "\n",
    "#normalize the feature\n",
    "count=access_logs.count()\n",
    "fracs=responsecode_count.map(lambda (x,y):(float(y)/count)).collect()\n",
    "print fracs"
   ]
  },
  {
   "cell_type": "code",
   "execution_count": 9,
   "metadata": {
    "collapsed": false
   },
   "outputs": [
    {
     "data": {
      "text/plain": [
       "<matplotlib.legend.Legend at 0xb0e92c2c>"
      ]
     },
     "execution_count": 9,
     "metadata": {},
     "output_type": "execute_result"
    },
    {
     "data": {
      "image/png": "[encoded data removed]",
      "text/plain": [
       "<matplotlib.figure.Figure at 0xb0ee658c>"
      ]
     },
     "metadata": {},
     "output_type": "display_data"
    }
   ],
   "source": [
    "import matplotlib.pyplot as plt\n",
    "\n",
    "def pie_format(value):\n",
    "    return '' if value < 7 else '%.0f%%' % value\n",
    "\n",
    "fig=plt.figure(figsize=(4.5,4.5),facecolor='white',edgecolor='white')\n",
    "\n",
    "colors = ['yellowgreen', 'lightskyblue', 'gold', 'purple', 'yellow', 'red', 'black']\n",
    "\n",
    "explode = (0.05, 0.05, 0.1, 0, 0, 0, 0)\n",
    "\n",
    "patches, texts, autotexts = plt.pie(fracs, labels=labels, colors=colors,\n",
    "                                    explode=explode, autopct=pie_format,\n",
    "                                    shadow=True,  startangle=125)\n",
    "\n",
    "for text, autotext in zip(texts, autotexts):\n",
    "    if autotext.get_text() == '':\n",
    "        text.set_text('')\n",
    "        \n",
    "plt.legend(labels, loc=(0.80, 0.1), shadow=True)\n"
   ]
  },
  {
   "cell_type": "markdown",
   "metadata": {},
   "source": [
    "**Frequent Hosts Analysis**"
   ]
  },
  {
   "cell_type": "markdown",
   "metadata": {},
   "source": [
    "Same as above get the tuple reduce by label and the filter out hosts who accessed the server more than 10 times"
   ]
  },
  {
   "cell_type": "code",
   "execution_count": 10,
   "metadata": {
    "collapsed": false
   },
   "outputs": [
    {
     "data": {
      "text/plain": [
       "[u'slip3.nilenet.com',\n",
       " u'client-71-31.online.apple.com',\n",
       " u'ix-jac2-16.ix.netcom.com',\n",
       " u'slip124.qlink.queensu.ca',\n",
       " u'ppp0e-01.rns.tamu.edu',\n",
       " u'ix-ftl2-16.ix.netcom.com',\n",
       " u'202.40.17.51',\n",
       " u'dialin14.wantree.com.au',\n",
       " u'y1a.kootenay.net',\n",
       " u'199.242.22.79',\n",
       " u'133.65.48.113',\n",
       " u'weird.stardust.com',\n",
       " u'ucsdtv2.ucsd.edu',\n",
       " u'dialup2.speed.net',\n",
       " u'147.150.5.96',\n",
       " u'pc-117.grassroots.ns.ca',\n",
       " u'152.52.29.20',\n",
       " u'asyn01.lw2.noord.bart.nl',\n",
       " u'bilbo.klautern.fh-rpl.de',\n",
       " u'cywilli.psdn177.pacbell.com']"
      ]
     },
     "execution_count": 10,
     "metadata": {},
     "output_type": "execute_result"
    }
   ],
   "source": [
    "from operator import add\n",
    "#create host tuple rdd\n",
    "host_count=access_logs.map(lambda log:(log.host,1))\n",
    "\n",
    "#count the frequency\n",
    "hostSum=host_count.reduceByKey(add)\n",
    "\n",
    "#filter out more than 10\n",
    "host_10=hostSum.filter(lambda host:host[1]>10)\n",
    "\n",
    "#pick top 20\n",
    "host20=host_10.map(lambda host:host[0]).take(20)\n",
    "host20"
   ]
  },
  {
   "cell_type": "markdown",
   "metadata": {
    "collapsed": true
   },
   "source": [
    "**Visualizing Endpoints**"
   ]
  },
  {
   "cell_type": "markdown",
   "metadata": {},
   "source": [
    "Lets visualize the hits to endpoints(URls) "
   ]
  },
  {
   "cell_type": "code",
   "execution_count": 19,
   "metadata": {
    "collapsed": false
   },
   "outputs": [],
   "source": [
    "endpoints=access_logs.map(lambda log:(log.endpoint,1)).reduceByKey(add).cache()\n",
    "\n",
    "#get the labels and count\n",
    "ends=endpoints.map(lambda (x,y):x).collect()\n",
    "counts=endpoints.map(lambda (x,y):y).collect()\n",
    "\n"
   ]
  },
  {
   "cell_type": "code",
   "execution_count": 23,
   "metadata": {
    "collapsed": false
   },
   "outputs": [
    {
     "data": {
      "text/plain": [
       "[<matplotlib.lines.Line2D at 0xb0b9fdcc>]"
      ]
     },
     "execution_count": 23,
     "metadata": {},
     "output_type": "execute_result"
    },
    {
     "data": {
      "image/png": "[encoded data removed]",
      "text/plain": [
       "<matplotlib.figure.Figure at 0xb0da648c>"
      ]
     },
     "metadata": {},
     "output_type": "display_data"
    }
   ],
   "source": [
    "fig=plt.figure(figsize=(8,4),facecolor='white',edgecolor='white')\n",
    "\n",
    "plt.axis([0,len(ends),0,max(counts)])\n",
    "plt.grid(b=True, which='major', axis='y')\n",
    "plt.xlabel('Endpoints')\n",
    "plt.ylabel('Number of Hits')\n",
    "plt.plot(counts)"
   ]
  },
  {
   "cell_type": "code",
   "execution_count": 24,
   "metadata": {
    "collapsed": false
   },
   "outputs": [
    {
     "data": {
      "text/plain": [
       "[(u'/images/NASA-logosmall.gif', 59737),\n",
       " (u'/images/KSC-logosmall.gif', 50452),\n",
       " (u'/images/MOSAIC-logosmall.gif', 43890),\n",
       " (u'/images/USA-logosmall.gif', 43664),\n",
       " (u'/images/WORLD-logosmall.gif', 43277),\n",
       " (u'/images/ksclogo-medium.gif', 41336),\n",
       " (u'/ksc.html', 28582),\n",
       " (u'/history/apollo/images/apollo-logo1.gif', 26778),\n",
       " (u'/images/launch-logo.gif', 24755),\n",
       " (u'/', 20292)]"
      ]
     },
     "execution_count": 24,
     "metadata": {},
     "output_type": "execute_result"
    }
   ],
   "source": [
    "#get top 10 endpoints\n",
    "endpoints.takeOrdered(10,lambda s:-1*s[1])"
   ]
  },
  {
   "cell_type": "markdown",
   "metadata": {},
   "source": [
    "**Top 10 Error endpoints**"
   ]
  },
  {
   "cell_type": "markdown",
   "metadata": {},
   "source": [
    "We need top 10 error endpoints which does not return code 200"
   ]
  },
  {
   "cell_type": "code",
   "execution_count": 26,
   "metadata": {
    "collapsed": false
   },
   "outputs": [
    {
     "name": "stdout",
     "output_type": "stream",
     "text": [
      "[(u'/images/NASA-logosmall.gif', 8761), (u'/images/KSC-logosmall.gif', 7236), (u'/images/MOSAIC-logosmall.gif', 5197), (u'/images/USA-logosmall.gif', 5157), (u'/images/WORLD-logosmall.gif', 5020), (u'/images/ksclogo-medium.gif', 4728), (u'/history/apollo/images/apollo-logo1.gif', 2907), (u'/images/launch-logo.gif', 2811), (u'/', 2199), (u'/images/ksclogosmall.gif', 1622)]\n"
     ]
    }
   ],
   "source": [
    "not200=access_logs.filter(lambda log:log.response_code!=200)\n",
    "\n",
    "#get the label count\n",
    "not200_count=not200.map(lambda x:(x.endpoint,1)).reduceByKey(add)\n",
    "\n",
    "#get top 10\n",
    "top10_not200=not200_count.takeOrdered(10,lambda s:-1*s[1])\n",
    "\n",
    "print top10_not200"
   ]
  },
  {
   "cell_type": "markdown",
   "metadata": {},
   "source": [
    "**Number of Unique Hosts**"
   ]
  },
  {
   "cell_type": "code",
   "execution_count": 28,
   "metadata": {
    "collapsed": false
   },
   "outputs": [
    {
     "name": "stdout",
     "output_type": "stream",
     "text": [
      "54507\n"
     ]
    }
   ],
   "source": [
    "uniqueHosts=access_logs.map(lambda log:log.host).distinct()\n",
    "\n",
    "print uniqueHosts.count()"
   ]
  },
  {
   "cell_type": "markdown",
   "metadata": {},
   "source": [
    "**Number of unique daily hosts**"
   ]
  },
  {
   "cell_type": "code",
   "execution_count": 33,
   "metadata": {
    "collapsed": false
   },
   "outputs": [
    {
     "name": "stdout",
     "output_type": "stream",
     "text": [
      "[(1, 2582), (3, 3222), (4, 4190), (5, 2502), (6, 2537), (7, 4106), (8, 4406), (9, 4317), (10, 4523), (11, 4346), (12, 2864), (13, 2650), (14, 4454), (15, 4214), (16, 4340), (17, 4385), (18, 4168), (19, 2550), (20, 2560), (21, 4134), (22, 4456)]\n"
     ]
    }
   ],
   "source": [
    "day_host_tuple=access_logs.map(lambda log:(log.date_time.day,log.host)).distinct().groupByKey()\n",
    "\n",
    "dayhost_count=day_host_tuple.map(lambda x:(x[0],len(x[1]))).sortByKey().cache()\n",
    "\n",
    "dailyHost_list=dayhost_count.take(30)\n",
    "\n",
    "print dailyHost_list"
   ]
  },
  {
   "cell_type": "markdown",
   "metadata": {},
   "source": [
    "**Visualizing unique daily hosts**"
   ]
  },
  {
   "cell_type": "code",
   "execution_count": 35,
   "metadata": {
    "collapsed": false
   },
   "outputs": [],
   "source": [
    "days_host=dayhost_count.map(lambda (x,y):x).collect()\n",
    "hosts=dayhost_count.map(lambda (x,y):y).collect()"
   ]
  },
  {
   "cell_type": "code",
   "execution_count": 41,
   "metadata": {
    "collapsed": false
   },
   "outputs": [
    {
     "data": {
      "text/plain": [
       "[<matplotlib.lines.Line2D at 0xafe92aac>]"
      ]
     },
     "execution_count": 41,
     "metadata": {},
     "output_type": "execute_result"
    },
    {
     "data": {
      "image/png": "[encoded data removed]",
      "text/plain": [
       "<matplotlib.figure.Figure at 0xb06fecac>"
      ]
     },
     "metadata": {},
     "output_type": "display_data"
    }
   ],
   "source": [
    "#plot the figure\n",
    "fig=plt.figure(figsize=(8,4),facecolor='white',edgecolor='white')\n",
    "plt.axis([min(days_host),max(days_host),1000,max(hosts)+1000])\n",
    "plt.grid(b=True,which='major',axis='y')\n",
    "plt.xlabel(\"Day\")\n",
    "plt.ylabel(\"Hosts\")\n",
    "plt.plot(days_host,hosts)\n"
   ]
  },
  {
   "cell_type": "markdown",
   "metadata": {},
   "source": [
    "###Exploring 404 Response codes"
   ]
  },
  {
   "cell_type": "markdown",
   "metadata": {},
   "source": [
    "**Count 404 codes in log**"
   ]
  },
  {
   "cell_type": "code",
   "execution_count": 42,
   "metadata": {
    "collapsed": false
   },
   "outputs": [
    {
     "name": "stdout",
     "output_type": "stream",
     "text": [
      "6185\n"
     ]
    }
   ],
   "source": [
    "badRecords=access_logs.filter(lambda log:log.response_code==404).cache()\n",
    "\n",
    "#count number of badRecords\n",
    "print badRecords.count()"
   ]
  },
  {
   "cell_type": "markdown",
   "metadata": {},
   "source": [
    "**Get Unique badRecords**"
   ]
  },
  {
   "cell_type": "code",
   "execution_count": 44,
   "metadata": {
    "collapsed": false
   },
   "outputs": [
    {
     "data": {
      "text/plain": [
       "[u'/11/history/apollo/images/',\n",
       " u'/128.159.104.89/tv/tv.html',\n",
       " u'/imag',\n",
       " u'/shuttle/missionssts-70/woodpecker.html',\n",
       " u'/~terrig/bookmark.html',\n",
       " u'/elv/ATLAS_CENTAUR/p-ae.gif',\n",
       " u'/pub.win',\n",
       " u'/ksc.nasa.gov/images/ksclogo-medium.gif',\n",
       " u'/history/apollo-13',\n",
       " u'/shuttle/missioins/sts-70/movies/',\n",
       " u'/shuttle/missions/sts-69/mission-sts-74.html',\n",
       " u'/shuttle/missions/sts-80/mission-sts-80.html',\n",
       " u'/histort/apollo/apollo13',\n",
       " u'/www/ksc',\n",
       " u'/shuttle/miccions/sts-73/mission-sts-73.html',\n",
       " u'/images/lf.gif',\n",
       " u'/shuttle/Missions/missions.html',\n",
       " u'/ksc',\n",
       " u'/shuttle/missions/mission.html/',\n",
       " u'/images/jpeg/']"
      ]
     },
     "execution_count": 44,
     "metadata": {},
     "output_type": "execute_result"
    }
   ],
   "source": [
    "badEndpoints=badRecords.map(lambda x:x.endpoint).distinct()\n",
    "\n",
    "#get 20 bad endpoints\n",
    "badEndpoints.take(20)\n"
   ]
  },
  {
   "cell_type": "markdown",
   "metadata": {},
   "source": [
    "**Listing top 20**"
   ]
  },
  {
   "cell_type": "code",
   "execution_count": 45,
   "metadata": {
    "collapsed": false
   },
   "outputs": [
    {
     "data": {
      "text/plain": [
       "[(u'/pub/winvn/readme.txt', 633),\n",
       " (u'/pub/winvn/release.txt', 494),\n",
       " (u'/shuttle/missions/STS-69/mission-STS-69.html', 431),\n",
       " (u'/images/nasa-logo.gif', 319),\n",
       " (u'/elv/DELTA/uncons.htm', 178),\n",
       " (u'/shuttle/missions/sts-68/ksc-upclose.gif', 156),\n",
       " (u'/history/apollo/sa-1/sa-1-patch-small.gif', 146),\n",
       " (u'/images/crawlerway-logo.gif', 120),\n",
       " (u'/://spacelink.msfc.nasa.gov', 117),\n",
       " (u'/history/apollo/pad-abort-test-1/pad-abort-test-1-patch-small.gif', 100),\n",
       " (u'/history/apollo/a-001/a-001-patch-small.gif', 97),\n",
       " (u'/images/Nasa-logo.gif', 85),\n",
       " (u'/shuttle/resources/orbiters/atlantis.gif', 64),\n",
       " (u'/history/apollo/images/little-joe.jpg', 62),\n",
       " (u'/images/lf-logo.gif', 59),\n",
       " (u'/shuttle/resources/orbiters/discovery.gif', 56),\n",
       " (u'/shuttle/resources/orbiters/challenger.gif', 54),\n",
       " (u'/robots.txt', 53),\n",
       " (u'/elv/new01.gif>', 43),\n",
       " (u'/history/apollo/pad-abort-test-2/pad-abort-test-2-patch-small.gif', 38)]"
      ]
     },
     "execution_count": 45,
     "metadata": {},
     "output_type": "execute_result"
    }
   ],
   "source": [
    "badEndpoints_tuple=badRecords.map(lambda x:(x.endpoint,1)).reduceByKey(add)\n",
    "\n",
    "#get top 20\n",
    "badEndpoints_top20=badEndpoints_tuple.takeOrdered(20,lambda x:-1*x[1])\n",
    "\n",
    "badEndpoints_top20"
   ]
  },
  {
   "cell_type": "markdown",
   "metadata": {},
   "source": [
    "**Listing 404 Response codes per day**"
   ]
  },
  {
   "cell_type": "code",
   "execution_count": 47,
   "metadata": {
    "collapsed": false
   },
   "outputs": [
    {
     "data": {
      "text/plain": [
       "[(1, 243),\n",
       " (3, 303),\n",
       " (4, 346),\n",
       " (5, 234),\n",
       " (6, 372),\n",
       " (7, 532),\n",
       " (8, 381),\n",
       " (9, 279),\n",
       " (10, 314),\n",
       " (11, 263),\n",
       " (12, 195),\n",
       " (13, 216),\n",
       " (14, 287),\n",
       " (15, 326),\n",
       " (16, 258),\n",
       " (17, 269),\n",
       " (18, 255),\n",
       " (19, 207),\n",
       " (20, 312),\n",
       " (21, 305),\n",
       " (22, 288)]"
      ]
     },
     "execution_count": 47,
     "metadata": {},
     "output_type": "execute_result"
    }
   ],
   "source": [
    "#badRecords day tuple\n",
    "day_tuple=badRecords.map(lambda x:(x.date_time.day,1)).reduceByKey(add).sortByKey().cache()\n",
    "\n",
    "#error by day\n",
    "error_day=day_tuple.collect()\n",
    "error_day"
   ]
  },
  {
   "cell_type": "markdown",
   "metadata": {},
   "source": [
    "**Visualize 404 code per day**"
   ]
  },
  {
   "cell_type": "code",
   "execution_count": 48,
   "metadata": {
    "collapsed": true
   },
   "outputs": [],
   "source": [
    "dayWithError404=day_tuple.map(lambda (x,y):x).collect()\n",
    "count404=day_tuple.map(lambda (x,y):y).collect()"
   ]
  },
  {
   "cell_type": "code",
   "execution_count": 49,
   "metadata": {
    "collapsed": false
   },
   "outputs": [
    {
     "data": {
      "text/plain": [
       "[<matplotlib.lines.Line2D at 0xb01938cc>]"
      ]
     },
     "execution_count": 49,
     "metadata": {},
     "output_type": "execute_result"
    },
    {
     "data": {
      "image/png": "[encoded data removed]",
      "text/plain": [
       "<matplotlib.figure.Figure at 0xafebfbec>"
      ]
     },
     "metadata": {},
     "output_type": "display_data"
    }
   ],
   "source": [
    "fig=plt.figure(figsize=(8,4),facecolor='white',edgecolor='white')\n",
    "plt.axis([min(dayWithError404),max(dayWithError404),min(count404)-50,max(count404)+50])\n",
    "plt.grid(b=True,which='major',axis='y')\n",
    "plt.xlabel('Day')\n",
    "plt.ylabel('404 Errors')\n",
    "plt.plot(dayWithError404,count404)"
   ]
  },
  {
   "cell_type": "markdown",
   "metadata": {},
   "source": [
    "**Listing 404 Errors by hour**"
   ]
  },
  {
   "cell_type": "code",
   "execution_count": 50,
   "metadata": {
    "collapsed": false
   },
   "outputs": [
    {
     "data": {
      "text/plain": [
       "[(0, 175),\n",
       " (1, 171),\n",
       " (2, 422),\n",
       " (3, 272),\n",
       " (4, 102),\n",
       " (5, 95),\n",
       " (6, 93),\n",
       " (7, 122),\n",
       " (8, 199),\n",
       " (9, 185),\n",
       " (10, 329),\n",
       " (11, 263),\n",
       " (12, 438),\n",
       " (13, 397),\n",
       " (14, 318),\n",
       " (15, 347),\n",
       " (16, 373),\n",
       " (17, 330),\n",
       " (18, 268),\n",
       " (19, 269),\n",
       " (20, 270),\n",
       " (21, 241),\n",
       " (22, 234),\n",
       " (23, 272)]"
      ]
     },
     "execution_count": 50,
     "metadata": {},
     "output_type": "execute_result"
    }
   ],
   "source": [
    "#badRecords hour tuple\n",
    "hour_tuple=badRecords.map(lambda x:(x.date_time.hour,1)).reduceByKey(add).sortByKey().cache()\n",
    "\n",
    "#error by day\n",
    "error_hour=hour_tuple.collect()\n",
    "error_hour"
   ]
  },
  {
   "cell_type": "markdown",
   "metadata": {},
   "source": [
    "**Visualize 404 Errors by Hour**"
   ]
  },
  {
   "cell_type": "code",
   "execution_count": 51,
   "metadata": {
    "collapsed": true
   },
   "outputs": [],
   "source": [
    "hourWithError404=hour_tuple.map(lambda (x,y):x).collect()\n",
    "count404hour=hour_tuple.map(lambda (x,y):y).collect()"
   ]
  },
  {
   "cell_type": "code",
   "execution_count": 52,
   "metadata": {
    "collapsed": false
   },
   "outputs": [
    {
     "data": {
      "text/plain": [
       "[<matplotlib.lines.Line2D at 0xb01a00ac>]"
      ]
     },
     "execution_count": 52,
     "metadata": {},
     "output_type": "execute_result"
    },
    {
     "data": {
      "image/png": "[encoded data removed]",
      "text/plain": [
       "<matplotlib.figure.Figure at 0xb021388c>"
      ]
     },
     "metadata": {},
     "output_type": "display_data"
    }
   ],
   "source": [
    "fig=plt.figure(figsize=(8,4),facecolor='white',edgecolor='white')\n",
    "plt.axis([min(hourWithError404),max(hourWithError404),min(count404hour)-50,max(count404hour)+50])\n",
    "plt.grid(b=True,which='major',axis='y')\n",
    "plt.xlabel('Day')\n",
    "plt.ylabel('404 Errors')\n",
    "plt.plot(hourWithError404,count404hour)"
   ]
  },
  {
   "cell_type": "markdown",
   "metadata": {},
   "source": [
    "#That's It  :)"
   ]
  }
 ],
 "metadata": {
  "kernelspec": {
   "display_name": "Python 2",
   "language": "python",
   "name": "python2"
  },
  "language_info": {
   "codemirror_mode": {
    "name": "ipython",
    "version": 2
   },
   "file_extension": ".py",
   "mimetype": "text/x-python",
   "name": "python",
   "nbconvert_exporter": "python",
   "pygments_lexer": "ipython2",
   "version": "2.7.6"
  }
 },
 "nbformat": 4,
 "nbformat_minor": 0
}
